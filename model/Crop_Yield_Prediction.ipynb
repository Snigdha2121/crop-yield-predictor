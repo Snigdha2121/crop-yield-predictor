{
  "cells": [
    {
      "cell_type": "code",
      "execution_count": null,
      "metadata": {
        "colab": {
          "base_uri": "https://localhost:8080/"
        },
        "id": "9XNrBmXjsm_X",
        "outputId": "cb4b4e44-7ea3-45e6-9085-a69c1b9224c3"
      },
      "outputs": [
        {
          "name": "stdout",
          "output_type": "stream",
          "text": [
            "Mean Absolute Error: 0.017553575996291766\n",
            "R² Score: 0.9996975726784321\n",
            "Model saved successfully!\n"
          ]
        }
      ],
      "source": [
        "import pandas as pd\n",
        "import numpy as np\n",
        "from sklearn.model_selection import train_test_split\n",
        "from sklearn.preprocessing import OneHotEncoder, StandardScaler\n",
        "from sklearn.ensemble import GradientBoostingRegressor\n",
        "from sklearn.metrics import mean_absolute_error, r2_score\n",
        "import joblib\n",
        "\n",
        "# Load dataset\n",
        "df = pd.read_csv(\"dataset.csv\")\n",
        "\n",
        "# Selecting all relevant columns for prediction\n",
        "categorical_features = [\"Crop\", \"Sowing Month\", \"Harvest Month\", \"State\", \"District\"]\n",
        "numerical_features = [\"Rainfall (mm)\", \"Mean Temp (°C)\", \"Humidity (%)\", \"Soil pH\", \"Nitrogen (kg/ha)\", \"Phosphorus (kg/ha)\", \"Potassium (kg/ha)\", \"Market Price (₹/kg)\", \"Cultivation Area (ha)\", \"Production Volume (tons)\"]\n",
        "target = \"Crop Yield (tons/ha)\"\n",
        "\n",
        "# Handling categorical data\n",
        "encoder = OneHotEncoder(handle_unknown='ignore', sparse_output=False)\n",
        "X_cat = encoder.fit_transform(df[categorical_features])\n",
        "feature_names = encoder.get_feature_names_out(categorical_features)\n",
        "X_cat_df = pd.DataFrame(X_cat, columns=feature_names)\n",
        "\n",
        "# Handling numerical data\n",
        "scaler = StandardScaler()\n",
        "X_num = scaler.fit_transform(df[numerical_features])\n",
        "X_num_df = pd.DataFrame(X_num, columns=numerical_features)\n",
        "\n",
        "# Combining categorical and numerical features\n",
        "X = pd.concat([X_cat_df, X_num_df], axis=1)\n",
        "y = df[target]\n",
        "\n",
        "# Splitting data\n",
        "X_train, X_test, y_train, y_test = train_test_split(X, y, test_size=0.2, random_state=42)\n",
        "\n",
        "# Train model\n",
        "model = GradientBoostingRegressor(n_estimators=300, learning_rate=0.05, max_depth=7, random_state=42)\n",
        "model.fit(X_train, y_train)\n",
        "\n",
        "# Evaluate model\n",
        "y_pred = model.predict(X_test)\n",
        "mae = mean_absolute_error(y_test, y_pred)\n",
        "r2 = r2_score(y_test, y_pred)\n",
        "print(f\"Mean Absolute Error: {mae}\")\n",
        "print(f\"R² Score: {r2}\")\n",
        "\n",
        "# Save model & encoders\n",
        "joblib.dump(model, \"crop_yield_model.pkl\")\n",
        "joblib.dump(encoder, \"onehot_encoder.pkl\")\n",
        "joblib.dump(scaler, \"scaler.pkl\")\n",
        "print(\"Model saved successfully!\")\n"
      ]
    },
    {
      "cell_type": "code",
      "execution_count": null,
      "metadata": {
        "id": "J_ifibJhwo_j"
      },
      "outputs": [],
      "source": []
    }
  ],
  "metadata": {
    "colab": {
      "provenance": []
    },
    "kernelspec": {
      "display_name": "Python 3",
      "name": "python3"
    },
    "language_info": {
      "name": "python"
    }
  },
  "nbformat": 4,
  "nbformat_minor": 0
}
